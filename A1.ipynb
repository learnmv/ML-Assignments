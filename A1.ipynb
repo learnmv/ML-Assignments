{
 "cells": [
  {
   "cell_type": "code",
   "execution_count": 1,
   "id": "3bbc51e3",
   "metadata": {},
   "outputs": [],
   "source": [
    "#importing the required packages\n",
    "import numpy as np\n",
    "import pandas as pd\n",
    "import matplotlib.pyplot as plt\n",
    "%matplotlib inline"
   ]
  },
  {
   "cell_type": "code",
   "execution_count": 2,
   "id": "f1d79639",
   "metadata": {},
   "outputs": [],
   "source": [
    "df= pd.read_csv(\"cancer_dataset_wpbc.csv\")"
   ]
  },
  {
   "cell_type": "code",
   "execution_count": 3,
   "id": "49c21294",
   "metadata": {},
   "outputs": [
    {
     "data": {
      "text/html": [
       "<div>\n",
       "<style scoped>\n",
       "    .dataframe tbody tr th:only-of-type {\n",
       "        vertical-align: middle;\n",
       "    }\n",
       "\n",
       "    .dataframe tbody tr th {\n",
       "        vertical-align: top;\n",
       "    }\n",
       "\n",
       "    .dataframe thead th {\n",
       "        text-align: right;\n",
       "    }\n",
       "</style>\n",
       "<table border=\"1\" class=\"dataframe\">\n",
       "  <thead>\n",
       "    <tr style=\"text-align: right;\">\n",
       "      <th></th>\n",
       "      <th>ID</th>\n",
       "      <th>Outcome</th>\n",
       "      <th>Time</th>\n",
       "      <th>Mean Radius</th>\n",
       "      <th>Mean Texture</th>\n",
       "      <th>Mean Perimeter</th>\n",
       "      <th>Mean Area</th>\n",
       "      <th>Mean Smoothness</th>\n",
       "      <th>Mean Compactness</th>\n",
       "      <th>Mean Concavity</th>\n",
       "      <th>...</th>\n",
       "      <th>Worst Perimeter</th>\n",
       "      <th>Worst Area</th>\n",
       "      <th>Worst Smoothness</th>\n",
       "      <th>Worst Compactness</th>\n",
       "      <th>Worst Concavity</th>\n",
       "      <th>Worst Concave Points</th>\n",
       "      <th>Worst Symmetry</th>\n",
       "      <th>Worst Fractal Dimension</th>\n",
       "      <th>Tumor Size</th>\n",
       "      <th>Lymph Node Status</th>\n",
       "    </tr>\n",
       "  </thead>\n",
       "  <tbody>\n",
       "    <tr>\n",
       "      <th>0</th>\n",
       "      <td>119513</td>\n",
       "      <td>N</td>\n",
       "      <td>31</td>\n",
       "      <td>18.02</td>\n",
       "      <td>27.60</td>\n",
       "      <td>117.50</td>\n",
       "      <td>1013.0</td>\n",
       "      <td>0.09489</td>\n",
       "      <td>0.1036</td>\n",
       "      <td>0.1086</td>\n",
       "      <td>...</td>\n",
       "      <td>139.70</td>\n",
       "      <td>1436.0</td>\n",
       "      <td>0.1195</td>\n",
       "      <td>0.1926</td>\n",
       "      <td>0.3140</td>\n",
       "      <td>0.1170</td>\n",
       "      <td>0.2677</td>\n",
       "      <td>0.08113</td>\n",
       "      <td>5.0</td>\n",
       "      <td>5.0</td>\n",
       "    </tr>\n",
       "    <tr>\n",
       "      <th>1</th>\n",
       "      <td>8423</td>\n",
       "      <td>N</td>\n",
       "      <td>61</td>\n",
       "      <td>17.99</td>\n",
       "      <td>10.38</td>\n",
       "      <td>122.80</td>\n",
       "      <td>1001.0</td>\n",
       "      <td>0.11840</td>\n",
       "      <td>0.2776</td>\n",
       "      <td>0.3001</td>\n",
       "      <td>...</td>\n",
       "      <td>184.60</td>\n",
       "      <td>2019.0</td>\n",
       "      <td>0.1622</td>\n",
       "      <td>0.6656</td>\n",
       "      <td>0.7119</td>\n",
       "      <td>0.2654</td>\n",
       "      <td>0.4601</td>\n",
       "      <td>0.11890</td>\n",
       "      <td>3.0</td>\n",
       "      <td>2.0</td>\n",
       "    </tr>\n",
       "    <tr>\n",
       "      <th>2</th>\n",
       "      <td>842517</td>\n",
       "      <td>N</td>\n",
       "      <td>116</td>\n",
       "      <td>21.37</td>\n",
       "      <td>17.44</td>\n",
       "      <td>137.50</td>\n",
       "      <td>1373.0</td>\n",
       "      <td>0.08836</td>\n",
       "      <td>0.1189</td>\n",
       "      <td>0.1255</td>\n",
       "      <td>...</td>\n",
       "      <td>159.10</td>\n",
       "      <td>1949.0</td>\n",
       "      <td>0.1188</td>\n",
       "      <td>0.3449</td>\n",
       "      <td>0.3414</td>\n",
       "      <td>0.2032</td>\n",
       "      <td>0.4334</td>\n",
       "      <td>0.09067</td>\n",
       "      <td>2.5</td>\n",
       "      <td>0.0</td>\n",
       "    </tr>\n",
       "    <tr>\n",
       "      <th>3</th>\n",
       "      <td>843483</td>\n",
       "      <td>N</td>\n",
       "      <td>123</td>\n",
       "      <td>11.42</td>\n",
       "      <td>20.38</td>\n",
       "      <td>77.58</td>\n",
       "      <td>386.1</td>\n",
       "      <td>0.14250</td>\n",
       "      <td>0.2839</td>\n",
       "      <td>0.2414</td>\n",
       "      <td>...</td>\n",
       "      <td>98.87</td>\n",
       "      <td>567.7</td>\n",
       "      <td>0.2098</td>\n",
       "      <td>0.8663</td>\n",
       "      <td>0.6869</td>\n",
       "      <td>0.2575</td>\n",
       "      <td>0.6638</td>\n",
       "      <td>0.17300</td>\n",
       "      <td>2.0</td>\n",
       "      <td>0.0</td>\n",
       "    </tr>\n",
       "    <tr>\n",
       "      <th>4</th>\n",
       "      <td>843584</td>\n",
       "      <td>R</td>\n",
       "      <td>27</td>\n",
       "      <td>20.29</td>\n",
       "      <td>14.34</td>\n",
       "      <td>135.10</td>\n",
       "      <td>1297.0</td>\n",
       "      <td>0.10030</td>\n",
       "      <td>0.1328</td>\n",
       "      <td>0.1980</td>\n",
       "      <td>...</td>\n",
       "      <td>152.20</td>\n",
       "      <td>1575.0</td>\n",
       "      <td>0.1374</td>\n",
       "      <td>0.2050</td>\n",
       "      <td>0.4000</td>\n",
       "      <td>0.1625</td>\n",
       "      <td>0.2364</td>\n",
       "      <td>0.07678</td>\n",
       "      <td>3.5</td>\n",
       "      <td>0.0</td>\n",
       "    </tr>\n",
       "  </tbody>\n",
       "</table>\n",
       "<p>5 rows × 35 columns</p>\n",
       "</div>"
      ],
      "text/plain": [
       "       ID Outcome  Time  Mean Radius  Mean Texture  Mean Perimeter  Mean Area   \n",
       "0  119513       N    31        18.02         27.60          117.50     1013.0  \\\n",
       "1    8423       N    61        17.99         10.38          122.80     1001.0   \n",
       "2  842517       N   116        21.37         17.44          137.50     1373.0   \n",
       "3  843483       N   123        11.42         20.38           77.58      386.1   \n",
       "4  843584       R    27        20.29         14.34          135.10     1297.0   \n",
       "\n",
       "   Mean Smoothness  Mean Compactness  Mean Concavity  ...  Worst Perimeter   \n",
       "0          0.09489            0.1036          0.1086  ...           139.70  \\\n",
       "1          0.11840            0.2776          0.3001  ...           184.60   \n",
       "2          0.08836            0.1189          0.1255  ...           159.10   \n",
       "3          0.14250            0.2839          0.2414  ...            98.87   \n",
       "4          0.10030            0.1328          0.1980  ...           152.20   \n",
       "\n",
       "   Worst Area  Worst Smoothness  Worst Compactness  Worst Concavity   \n",
       "0      1436.0            0.1195             0.1926           0.3140  \\\n",
       "1      2019.0            0.1622             0.6656           0.7119   \n",
       "2      1949.0            0.1188             0.3449           0.3414   \n",
       "3       567.7            0.2098             0.8663           0.6869   \n",
       "4      1575.0            0.1374             0.2050           0.4000   \n",
       "\n",
       "   Worst Concave Points  Worst Symmetry  Worst Fractal Dimension  Tumor Size   \n",
       "0                0.1170          0.2677                  0.08113         5.0  \\\n",
       "1                0.2654          0.4601                  0.11890         3.0   \n",
       "2                0.2032          0.4334                  0.09067         2.5   \n",
       "3                0.2575          0.6638                  0.17300         2.0   \n",
       "4                0.1625          0.2364                  0.07678         3.5   \n",
       "\n",
       "   Lymph Node Status  \n",
       "0                5.0  \n",
       "1                2.0  \n",
       "2                0.0  \n",
       "3                0.0  \n",
       "4                0.0  \n",
       "\n",
       "[5 rows x 35 columns]"
      ]
     },
     "execution_count": 3,
     "metadata": {},
     "output_type": "execute_result"
    }
   ],
   "source": [
    "df.head()"
   ]
  },
  {
   "cell_type": "code",
   "execution_count": 4,
   "id": "771e4d6d",
   "metadata": {},
   "outputs": [
    {
     "data": {
      "text/plain": [
       "Index(['ID', 'Outcome', 'Time', 'Mean Radius', 'Mean Texture',\n",
       "       'Mean Perimeter', 'Mean Area', 'Mean Smoothness', 'Mean Compactness',\n",
       "       'Mean Concavity', 'Mean Concave Points', 'Mean Symmetry',\n",
       "       'Mean Fractal Dimension', 'SE Radius', 'SE Texture', 'SE Perimeter',\n",
       "       'SE Area', 'SE Smoothness', 'SE Compactness', 'SE Concavity',\n",
       "       'SE Concave Points', 'SE Symmetry', 'SE Fractal Dimension',\n",
       "       'Worst Radius', 'Worst Texture', 'Worst Perimeter', 'Worst Area',\n",
       "       'Worst Smoothness', 'Worst Compactness', 'Worst Concavity',\n",
       "       'Worst Concave Points', 'Worst Symmetry', 'Worst Fractal Dimension',\n",
       "       'Tumor Size', 'Lymph Node Status'],\n",
       "      dtype='object')"
      ]
     },
     "execution_count": 4,
     "metadata": {},
     "output_type": "execute_result"
    }
   ],
   "source": [
    "df.columns"
   ]
  },
  {
   "cell_type": "markdown",
   "id": "dd0fa3e7",
   "metadata": {},
   "source": [
    "### Data preprocessing Step"
   ]
  },
  {
   "cell_type": "code",
   "execution_count": 5,
   "id": "1aa80643",
   "metadata": {},
   "outputs": [
    {
     "data": {
      "text/plain": [
       "ID                         False\n",
       "Outcome                    False\n",
       "Time                       False\n",
       "Mean Radius                False\n",
       "Mean Texture               False\n",
       "Mean Perimeter             False\n",
       "Mean Area                  False\n",
       "Mean Smoothness            False\n",
       "Mean Compactness           False\n",
       "Mean Concavity             False\n",
       "Mean Concave Points        False\n",
       "Mean Symmetry              False\n",
       "Mean Fractal Dimension     False\n",
       "SE Radius                  False\n",
       "SE Texture                 False\n",
       "SE Perimeter               False\n",
       "SE Area                    False\n",
       "SE Smoothness              False\n",
       "SE Compactness             False\n",
       "SE Concavity               False\n",
       "SE Concave Points          False\n",
       "SE Symmetry                False\n",
       "SE Fractal Dimension       False\n",
       "Worst Radius               False\n",
       "Worst Texture              False\n",
       "Worst Perimeter            False\n",
       "Worst Area                 False\n",
       "Worst Smoothness           False\n",
       "Worst Compactness          False\n",
       "Worst Concavity            False\n",
       "Worst Concave Points       False\n",
       "Worst Symmetry             False\n",
       "Worst Fractal Dimension    False\n",
       "Tumor Size                 False\n",
       "Lymph Node Status           True\n",
       "dtype: bool"
      ]
     },
     "execution_count": 5,
     "metadata": {},
     "output_type": "execute_result"
    }
   ],
   "source": [
    "df.isna().any()"
   ]
  },
  {
   "cell_type": "code",
   "execution_count": 6,
   "id": "83ca01fd",
   "metadata": {},
   "outputs": [],
   "source": [
    "#As we can see Lymph Node status contains Na values lets replace those values with mean value\n",
    "df[\"Lymph Node Status\"].fillna(df[\"Lymph Node Status\"].mean(), inplace = True)"
   ]
  },
  {
   "cell_type": "code",
   "execution_count": 7,
   "id": "c2cb0628",
   "metadata": {},
   "outputs": [
    {
     "name": "stdout",
     "output_type": "stream",
     "text": [
      "Total No.of Samples in dataset is  198\n"
     ]
    }
   ],
   "source": [
    "m = df.shape[0]\n",
    "print(\"Total No.of Samples in dataset is \", m)\n"
   ]
  },
  {
   "cell_type": "code",
   "execution_count": 8,
   "id": "63a19c84",
   "metadata": {},
   "outputs": [],
   "source": [
    "def splitData(df, features_needed):\n",
    "    dfNeed = df[features_needed]\n",
    "    dfNeed.insert(0, 'Ones', 1)\n",
    "    split = int(0.8*m)\n",
    "    train = dfNeed[:split]\n",
    "    test = dfNeed[split:]\n",
    "    return train, test"
   ]
  },
  {
   "cell_type": "code",
   "execution_count": 9,
   "id": "eed99e92",
   "metadata": {},
   "outputs": [],
   "source": [
    "def splitXy(data):\n",
    "    cols = data.shape[1]\n",
    "    X = np.matrix(data.iloc[:,0:cols-1].values)\n",
    "    y = np.matrix(data.iloc[:,cols-1:cols].values)\n",
    "    return X, y"
   ]
  },
  {
   "cell_type": "markdown",
   "id": "5aaa1cbe",
   "metadata": {},
   "source": [
    "### 1. Linear Regression with one variable"
   ]
  },
  {
   "cell_type": "code",
   "execution_count": 10,
   "id": "cf3d1139",
   "metadata": {},
   "outputs": [
    {
     "data": {
      "text/plain": [
       "'\\na. Implement linear regression to predict tumor size (Tumor Size) using “Mean Texture” \\nfeature from dataset. “Tumor Size” will be the target variable.\\nb. Evaluate performance using metrics (such as Mean Squared Error (MSE), R-squared (R²), \\nand Adjusted R-squared (Adjusted R²). You may also use graphs for explaining your\\nobservations.\\n'"
      ]
     },
     "execution_count": 10,
     "metadata": {},
     "output_type": "execute_result"
    }
   ],
   "source": [
    "'''\n",
    "a. Implement linear regression to predict tumor size (Tumor Size) using “Mean Texture” \n",
    "feature from dataset. “Tumor Size” will be the target variable.\n",
    "b. Evaluate performance using metrics (such as Mean Squared Error (MSE), R-squared (R²), \n",
    "and Adjusted R-squared (Adjusted R²). You may also use graphs for explaining your\n",
    "observations.\n",
    "'''"
   ]
  },
  {
   "cell_type": "code",
   "execution_count": 11,
   "id": "87b7a087",
   "metadata": {},
   "outputs": [],
   "source": [
    "features_needed = ['Mean Texture', 'Tumor Size']\n",
    "train, test = splitData(df, features_needed)"
   ]
  },
  {
   "cell_type": "code",
   "execution_count": 12,
   "id": "08116aee",
   "metadata": {},
   "outputs": [],
   "source": [
    "Xtrain, ytrain = splitXy(train)\n",
    "Xtest, ytest = splitXy(test)"
   ]
  },
  {
   "cell_type": "code",
   "execution_count": 13,
   "id": "5fa910ef",
   "metadata": {},
   "outputs": [
    {
     "data": {
      "text/plain": [
       "((158, 2), (158, 1), (40, 2), (40, 1))"
      ]
     },
     "execution_count": 13,
     "metadata": {},
     "output_type": "execute_result"
    }
   ],
   "source": [
    "Xtrain.shape, ytrain.shape, Xtest.shape, ytest.shape"
   ]
  },
  {
   "cell_type": "code",
   "execution_count": 14,
   "id": "f85de528",
   "metadata": {},
   "outputs": [],
   "source": [
    "def mse(actual, predicted):\n",
    "    error = np.power(predicted - actual, 2)\n",
    "    cost = np.sum(error) / (2*len(actual))\n",
    "    return cost"
   ]
  },
  {
   "cell_type": "code",
   "execution_count": 15,
   "id": "5ef062b7",
   "metadata": {},
   "outputs": [],
   "source": [
    "def rsquared(actual, predicted):\n",
    "    actual_mean = np.mean(actual)\n",
    "    ssr = np.sum(np.power((predicted - actual_mean),2))\n",
    "    sst = np.sum(np.power((actual - actual_mean),2))\n",
    "    return (1 - (ssr/sst))"
   ]
  },
  {
   "cell_type": "code",
   "execution_count": 16,
   "id": "0c75ca5f",
   "metadata": {},
   "outputs": [],
   "source": [
    "def adjustedrsquared(X,actual,predicted):\n",
    "    n = len(actual)\n",
    "    k = X.shape[1]\n",
    "    return ( 1 - (1-rsquared(actual,predicted))*(n-1)/(n-k-1))"
   ]
  },
  {
   "cell_type": "code",
   "execution_count": 17,
   "id": "b4910076",
   "metadata": {},
   "outputs": [],
   "source": [
    "def gradient_descent(X,y,weights,learning_rate,iterations):\n",
    "    for i in range(iterations):\n",
    "        y_hat = X * weights.T\n",
    "        cost = mse(y_hat, y)\n",
    "        loss = y_hat - y\n",
    "        m = len(y_hat)\n",
    "        gradient = np.dot(loss.T,X)/m\n",
    "        store_weight.append(weights[0,1])\n",
    "        store_cost.append(cost)\n",
    "        weights = weights - (learning_rate * gradient)\n",
    "        if(i%100 == 0):\n",
    "            print(\"iteration: \",i,\"Cost: \", cost)\n",
    "    return weights"
   ]
  },
  {
   "cell_type": "code",
   "execution_count": 18,
   "id": "85f5c256",
   "metadata": {},
   "outputs": [
    {
     "name": "stdout",
     "output_type": "stream",
     "text": [
      "iteration:  0 Cost:  5.184772118544304\n",
      "iteration:  100 Cost:  1.9449749941499577\n",
      "iteration:  200 Cost:  1.9445218426256783\n",
      "iteration:  300 Cost:  1.9440716606357853\n",
      "iteration:  400 Cost:  1.9436244287207078\n",
      "iteration:  500 Cost:  1.9431801275483938\n",
      "iteration:  600 Cost:  1.9427387379134766\n",
      "iteration:  700 Cost:  1.9423002407364425\n",
      "iteration:  800 Cost:  1.9418646170628084\n",
      "iteration:  900 Cost:  1.9414318480623005\n"
     ]
    }
   ],
   "source": [
    "alpha = 0.001\n",
    "iters = 1000\n",
    "weights = np.matrix([0.1,0.01])\n",
    "store_weight = []\n",
    "store_cost = []\n",
    "estimated_weights = gradient_descent(Xtrain,ytrain,weights,alpha,iters)"
   ]
  },
  {
   "cell_type": "code",
   "execution_count": 19,
   "id": "78b485f1",
   "metadata": {},
   "outputs": [
    {
     "data": {
      "text/plain": [
       "matrix([[0.17169618, 0.12305428]])"
      ]
     },
     "execution_count": 19,
     "metadata": {},
     "output_type": "execute_result"
    }
   ],
   "source": [
    "estimated_weights"
   ]
  },
  {
   "cell_type": "code",
   "execution_count": 20,
   "id": "4deb9755",
   "metadata": {},
   "outputs": [
    {
     "data": {
      "image/png": "[encoded data removed]",
      "text/plain": [
       "<Figure size 640x480 with 1 Axes>"
      ]
     },
     "metadata": {},
     "output_type": "display_data"
    }
   ],
   "source": [
    "plt.scatter(store_weight, store_cost,marker=r'o',color='b')\n",
    "plt.plot(store_weight, store_cost)\n",
    "plt.xlabel(\"Weights\")\n",
    "plt.ylabel(\"Cost Function\")\n",
    "plt.show()"
   ]
  },
  {
   "cell_type": "code",
   "execution_count": 21,
   "id": "5ddc1b75",
   "metadata": {},
   "outputs": [],
   "source": [
    "def predict(X,weights):\n",
    "    predictions = X * weights.T\n",
    "    return predictions"
   ]
  },
  {
   "cell_type": "code",
   "execution_count": 22,
   "id": "c808a50e",
   "metadata": {},
   "outputs": [],
   "source": [
    "y_pred = predict(Xtest,estimated_weights)"
   ]
  },
  {
   "cell_type": "code",
   "execution_count": 23,
   "id": "57845d37",
   "metadata": {},
   "outputs": [
    {
     "data": {
      "text/plain": [
       "2.1442794935802265"
      ]
     },
     "execution_count": 23,
     "metadata": {},
     "output_type": "execute_result"
    }
   ],
   "source": [
    "mse(ytest,y_pred)"
   ]
  },
  {
   "cell_type": "code",
   "execution_count": 24,
   "id": "321a77ce",
   "metadata": {},
   "outputs": [
    {
     "data": {
      "text/plain": [
       "0.8305565532115363"
      ]
     },
     "execution_count": 24,
     "metadata": {},
     "output_type": "execute_result"
    }
   ],
   "source": [
    "rsquared(ytest, y_pred)"
   ]
  },
  {
   "cell_type": "code",
   "execution_count": 25,
   "id": "6cd90363",
   "metadata": {},
   "outputs": [
    {
     "data": {
      "text/plain": [
       "0.8213974479797275"
      ]
     },
     "execution_count": 25,
     "metadata": {},
     "output_type": "execute_result"
    }
   ],
   "source": [
    "adjustedrsquared(Xtest,ytest, y_pred)"
   ]
  },
  {
   "cell_type": "code",
   "execution_count": 26,
   "id": "0e678a42",
   "metadata": {},
   "outputs": [
    {
     "data": {
      "text/plain": [
       "[<matplotlib.lines.Line2D at 0x257c707f0a0>]"
      ]
     },
     "execution_count": 26,
     "metadata": {},
     "output_type": "execute_result"
    },
    {
     "data": {
      "image/png": "[encoded data removed]",
      "text/plain": [
       "<Figure size 640x480 with 1 Axes>"
      ]
     },
     "metadata": {},
     "output_type": "display_data"
    }
   ],
   "source": [
    "plt.scatter([Xtest[:,1]],[ytest],c='blue')\n",
    "plt.xlabel(\"Mean Texture\")\n",
    "plt.ylabel(\"Tumor Size\")\n",
    "plt.plot(Xtest[:,1],y_pred)"
   ]
  },
  {
   "cell_type": "markdown",
   "id": "28c703b2",
   "metadata": {},
   "source": [
    "### Linear Regression with 2 variables"
   ]
  },
  {
   "cell_type": "code",
   "execution_count": 27,
   "id": "348adc07",
   "metadata": {},
   "outputs": [
    {
     "data": {
      "text/plain": [
       "\"\\n#2. 2. Linear Regression with Two Variables: (15 points)\\na. Add 'Lymph Node Status' as an additional input feature to the previous linear regression \\nmodel. Does adding this feature improve the performance of the model? Compare the \\nperformance of the models in Question 1 and Question 2 using evaluation metrics (such\\nas Mean Squared Error (MSE), R-squared (R²), and Adjusted R-squared (Adjusted R²). You \\nmay also use graphs for explaining yourobservations\\n\""
      ]
     },
     "execution_count": 27,
     "metadata": {},
     "output_type": "execute_result"
    }
   ],
   "source": [
    "'''\n",
    "#2. 2. Linear Regression with Two Variables: (15 points)\n",
    "a. Add 'Lymph Node Status' as an additional input feature to the previous linear regression \n",
    "model. Does adding this feature improve the performance of the model? Compare the \n",
    "performance of the models in Question 1 and Question 2 using evaluation metrics (such\n",
    "as Mean Squared Error (MSE), R-squared (R²), and Adjusted R-squared (Adjusted R²). You \n",
    "may also use graphs for explaining yourobservations\n",
    "'''"
   ]
  },
  {
   "cell_type": "code",
   "execution_count": 28,
   "id": "4cf26031",
   "metadata": {},
   "outputs": [],
   "source": [
    "features_needed = ['Mean Texture','Lymph Node Status' ,'Tumor Size']\n",
    "train, test = splitData(df, features_needed)"
   ]
  },
  {
   "cell_type": "code",
   "execution_count": 29,
   "id": "1a402115",
   "metadata": {},
   "outputs": [
    {
     "data": {
      "text/plain": [
       "((158, 3), (158, 1), (40, 3), (40, 1))"
      ]
     },
     "execution_count": 29,
     "metadata": {},
     "output_type": "execute_result"
    }
   ],
   "source": [
    "Xtrain, ytrain = splitXy(train)\n",
    "Xtest, ytest = splitXy(test)\n",
    "Xtrain.shape, ytrain.shape, Xtest.shape, ytest.shape"
   ]
  },
  {
   "cell_type": "code",
   "execution_count": 30,
   "id": "e186131c",
   "metadata": {},
   "outputs": [],
   "source": [
    "def gradient_descent2(X,y,weights,learning_rate,iterations):\n",
    "    for i in range(iterations):\n",
    "        y_hat = X * weights.T\n",
    "        cost = mse(y_hat, y)\n",
    "        loss = y_hat - y\n",
    "        m = len(y_hat)\n",
    "        gradient = np.dot(loss.T,X)/m\n",
    "        store_weight1.append(weights[0,1])\n",
    "        store_weight2.append(weights[0,2])\n",
    "        store_cost.append(cost)\n",
    "        weights = weights - (learning_rate * gradient)\n",
    "        if(i%100 == 0):\n",
    "            print(\"iteration: \",i,\"Cost: \", cost)\n",
    "    return weights"
   ]
  },
  {
   "cell_type": "code",
   "execution_count": 31,
   "id": "de126258",
   "metadata": {},
   "outputs": [
    {
     "name": "stdout",
     "output_type": "stream",
     "text": [
      "iteration:  0 Cost:  5.044133451890978\n",
      "iteration:  100 Cost:  1.453765859505629\n",
      "iteration:  200 Cost:  1.4524534282084165\n",
      "iteration:  300 Cost:  1.4519766232161688\n",
      "iteration:  400 Cost:  1.451504939099207\n",
      "iteration:  500 Cost:  1.4510363504657717\n",
      "iteration:  600 Cost:  1.450570832224201\n",
      "iteration:  700 Cost:  1.4501083642444481\n",
      "iteration:  800 Cost:  1.4496489265399501\n",
      "iteration:  900 Cost:  1.449192499255131\n"
     ]
    }
   ],
   "source": [
    "alpha = 0.001\n",
    "iters = 1000\n",
    "weights = np.matrix([0.1,0.01,0.01])\n",
    "store_weight1 = []\n",
    "store_weight2 = []\n",
    "store_cost = []\n",
    "estimated_weights = gradient_descent2(Xtrain,ytrain,weights,alpha,iters)"
   ]
  },
  {
   "cell_type": "code",
   "execution_count": 32,
   "id": "a229f8ea",
   "metadata": {},
   "outputs": [],
   "source": [
    "y_pred = predict(Xtest,estimated_weights)"
   ]
  },
  {
   "cell_type": "code",
   "execution_count": 33,
   "id": "1d330957",
   "metadata": {},
   "outputs": [
    {
     "data": {
      "text/plain": [
       "1.7316861078750698"
      ]
     },
     "execution_count": 33,
     "metadata": {},
     "output_type": "execute_result"
    }
   ],
   "source": [
    "mse(ytest,y_pred)"
   ]
  },
  {
   "cell_type": "code",
   "execution_count": 34,
   "id": "8ab6f574",
   "metadata": {},
   "outputs": [
    {
     "data": {
      "text/plain": [
       "0.7591752993525289"
      ]
     },
     "execution_count": 34,
     "metadata": {},
     "output_type": "execute_result"
    }
   ],
   "source": [
    "rsquared(ytest, y_pred)"
   ]
  },
  {
   "cell_type": "code",
   "execution_count": 35,
   "id": "0c5629eb",
   "metadata": {},
   "outputs": [
    {
     "data": {
      "text/plain": [
       "0.739106574298573"
      ]
     },
     "execution_count": 35,
     "metadata": {},
     "output_type": "execute_result"
    }
   ],
   "source": [
    "adjustedrsquared(Xtest,ytest, y_pred)"
   ]
  },
  {
   "cell_type": "code",
   "execution_count": 36,
   "id": "7e76c992",
   "metadata": {},
   "outputs": [
    {
     "data": {
      "image/png": "[encoded data removed]",
      "text/plain": [
       "<Figure size 640x480 with 1 Axes>"
      ]
     },
     "metadata": {},
     "output_type": "display_data"
    }
   ],
   "source": [
    "plt.scatter(store_weight1, store_cost,marker=r'o',color='b')\n",
    "plt.plot(store_weight1, store_cost)\n",
    "plt.xlabel(\"Weight1\")\n",
    "plt.ylabel(\"Cost Function\")\n",
    "plt.show()"
   ]
  },
  {
   "cell_type": "code",
   "execution_count": 37,
   "id": "ae23e909",
   "metadata": {},
   "outputs": [
    {
     "data": {
      "image/png": "[encoded data removed]",
      "text/plain": [
       "<Figure size 640x480 with 1 Axes>"
      ]
     },
     "metadata": {},
     "output_type": "display_data"
    }
   ],
   "source": [
    "plt.scatter(store_weight2, store_cost,marker=r'o',color='b')\n",
    "plt.plot(store_weight2, store_cost)\n",
    "plt.xlabel(\"Weight2\")\n",
    "plt.ylabel(\"Cost Function\")\n",
    "plt.show()"
   ]
  },
  {
   "cell_type": "markdown",
   "id": "f8bc4a74",
   "metadata": {},
   "source": [
    "### StepWise Linear Regression"
   ]
  },
  {
   "cell_type": "code",
   "execution_count": 38,
   "id": "330f1db5",
   "metadata": {},
   "outputs": [
    {
     "data": {
      "text/plain": [
       "\"\\n3. Stepwise Linear Regression: (50 points)\\n In this section, you will explore stepwise linear regression to determine the most relevant features for \\n predicting tumor size.\\na. Select any 5 features out of the 10 provided below. Implement forward stepwise linear \\nregression with the chosen features. The process involves iteratively adding one feature \\nat a time from your selection. After adding each feature, evaluate the model's \\nperformance using metrics such as Mean Squared Error, R-squared, Adjusted R-squared, \\nor BIC-Bayesian Information Criterion (preferred). Choose the feature that contributes \\nthe most to improving the model's performance and add it to the model. Continue this \\niterative process for a total of 5 iterations. Explain your selection criteria for adding or \\nremoving features\\n\""
      ]
     },
     "execution_count": 38,
     "metadata": {},
     "output_type": "execute_result"
    }
   ],
   "source": [
    "'''\n",
    "3. Stepwise Linear Regression: (50 points)\n",
    " In this section, you will explore stepwise linear regression to determine the most relevant features for \n",
    " predicting tumor size.\n",
    "a. Select any 5 features out of the 10 provided below. Implement forward stepwise linear \n",
    "regression with the chosen features. The process involves iteratively adding one feature \n",
    "at a time from your selection. After adding each feature, evaluate the model's \n",
    "performance using metrics such as Mean Squared Error, R-squared, Adjusted R-squared, \n",
    "or BIC-Bayesian Information Criterion (preferred). Choose the feature that contributes \n",
    "the most to improving the model's performance and add it to the model. Continue this \n",
    "iterative process for a total of 5 iterations. Explain your selection criteria for adding or \n",
    "removing features\n",
    "'''"
   ]
  },
  {
   "cell_type": "code",
   "execution_count": 39,
   "id": "46a1e15a",
   "metadata": {},
   "outputs": [],
   "source": [
    "#let 5 features be 'Mean Radius', 'Mean Smoothness', 'Mean Fractal Dimension', 'Worst Radius', 'Lymph Node Status'\n",
    "features_needed = ['Mean Radius', 'Mean Smoothness', 'Mean Fractal Dimension', 'Worst Radius', 'Lymph Node Status', 'Tumor Size']\n",
    "train, test = splitData(df, features_needed)"
   ]
  },
  {
   "cell_type": "code",
   "execution_count": 40,
   "id": "3e6aa64c",
   "metadata": {},
   "outputs": [
    {
     "data": {
      "text/plain": [
       "((158, 6), (158, 1), (40, 6), (40, 1))"
      ]
     },
     "execution_count": 40,
     "metadata": {},
     "output_type": "execute_result"
    }
   ],
   "source": [
    "Xtrain, ytrain = splitXy(train)\n",
    "Xtest, ytest = splitXy(test)\n",
    "Xtrain.shape, ytrain.shape, Xtest.shape, ytest.shape"
   ]
  },
  {
   "cell_type": "code",
   "execution_count": 41,
   "id": "62a3fc84",
   "metadata": {},
   "outputs": [],
   "source": [
    "def gradient_descent3(X,y,weights,learning_rate,iterations):\n",
    "    for i in range(iterations):\n",
    "        y_hat = X * weights.T\n",
    "        cost = mse(y_hat, y)\n",
    "        loss = y_hat - y\n",
    "        m = len(y_hat)\n",
    "        gradient = np.dot(loss.T,X)/m\n",
    "        weights = weights - (learning_rate * gradient)\n",
    "#         if(i%100 == 0):\n",
    "#             print(\"iteration: \",i,\"Cost: \", cost)\n",
    "    return weights"
   ]
  },
  {
   "cell_type": "code",
   "execution_count": 42,
   "id": "6ec65383",
   "metadata": {},
   "outputs": [
    {
     "name": "stdout",
     "output_type": "stream",
     "text": [
      "Iteration 1: Added feature 1, R-squared = 0.9297\n",
      "Iteration 2: Added feature 0, R-squared = 0.9673\n",
      "Iteration 3: Added feature 2, R-squared = 0.9707\n",
      "Iteration 4: Added feature 3, R-squared = 0.9730\n",
      "Iteration 5: Added feature None, R-squared = 0.9730\n",
      "Selected features: [1, 0, 2, 3]\n",
      "foward best model: [[0.07393045 0.93761519 0.99276994 0.1741231 ]]\n"
     ]
    }
   ],
   "source": [
    "# Forward Stepwise Regression\n",
    "def forward_stepwise_regression(X, y, num_iterations):\n",
    "    n, p = X.shape  # Number of samples and predictors\n",
    "    selected_features = []  # List to store selected feature indices\n",
    "    remaining_features = list(range(p))  # List of remaining feature indices\n",
    "    best_model = None\n",
    "    best_score = float('-inf')\n",
    "\n",
    "    for i in range(num_iterations):\n",
    "        best_feature = None\n",
    "\n",
    "        for feature in remaining_features:\n",
    "            # Add the selected feature to the currently selected features\n",
    "            current_features = selected_features + [feature]\n",
    "            #Prepare the Data\n",
    "            X_current = X[:, current_features]\n",
    "            \n",
    "            beta = np.matrix(np.ones(X_current.shape[1]))\n",
    "            beta = gradient_descent3(X_current,y,beta,0.001,1000)\n",
    "            \n",
    "            # Calculate the R-squared score for the current model\n",
    "            y_pred = X_current * beta.T\n",
    "            r2 = rsquared(y, y_pred)\n",
    "\n",
    "            # If the R-squared score is better than the previous best, update\n",
    "            if r2 > best_score + 0.0001:\n",
    "                best_score = r2\n",
    "                best_feature = feature\n",
    "\n",
    "        # Add the best feature to the selected features and remove it from remaining\n",
    "        if best_feature is not None:\n",
    "            selected_features.append(best_feature)\n",
    "            remaining_features.remove(best_feature)\n",
    "            best_model = beta\n",
    "\n",
    "        print(f\"Iteration {i + 1}: Added feature {best_feature}, R-squared = {best_score:.4f}\")\n",
    "\n",
    "    return best_model, selected_features\n",
    "\n",
    "# Perform forward stepwise regression for 5 iterations\n",
    "num_iterations = 5\n",
    "forward_model, selected_features = forward_stepwise_regression(Xtrain, ytrain, num_iterations)\n",
    "print(\"Selected features:\", selected_features)\n",
    "print(\"foward best model:\", forward_model)"
   ]
  },
  {
   "cell_type": "markdown",
   "id": "95dd2e11",
   "metadata": {},
   "source": [
    "## Backward Propogation"
   ]
  },
  {
   "cell_type": "code",
   "execution_count": 43,
   "id": "54c37d36",
   "metadata": {},
   "outputs": [],
   "source": [
    "all_features = ['Mean Radius', 'Mean Perimeter', 'Mean Area', 'Mean Smoothness', 'Mean Symmetry',\n",
    "                'Mean Fractal Dimension', 'Worst Radius', 'Worst Area', 'Worst Symmetry', \n",
    " 'Lymph Node Status', 'Tumor Size']\n",
    "\n",
    "train, test = splitData(df, all_features)\n",
    "all_features.remove('Tumor Size')"
   ]
  },
  {
   "cell_type": "code",
   "execution_count": 44,
   "id": "8ed5f2b3",
   "metadata": {},
   "outputs": [
    {
     "data": {
      "text/plain": [
       "((158, 11), (158, 1), (40, 11), (40, 1))"
      ]
     },
     "execution_count": 44,
     "metadata": {},
     "output_type": "execute_result"
    }
   ],
   "source": [
    "Xtrain, ytrain = splitXy(train)\n",
    "Xtest, ytest = splitXy(test)\n",
    "Xtrain.shape, ytrain.shape, Xtest.shape, ytest.shape"
   ]
  },
  {
   "cell_type": "code",
   "execution_count": 45,
   "id": "dba59f00",
   "metadata": {},
   "outputs": [
    {
     "name": "stdout",
     "output_type": "stream",
     "text": [
      "Selected Features: ['Mean Radius', 'Mean Perimeter', 'Mean Area', 'Mean Smoothness', 'Mean Symmetry', 'Mean Fractal Dimension', 'Worst Radius', 'Worst Area', 'Worst Symmetry', 'Lymph Node Status']\n",
      "Final Model Parameters: [[-1.96771581e+15]\n",
      " [ 1.96771581e+15]\n",
      " [-8.21931792e+00]\n",
      " [ 9.01972070e-01]\n",
      " [ 1.04740127e-02]\n",
      " [ 1.68098637e+02]\n",
      " [ 2.24295213e+01]\n",
      " [-4.45757270e+02]\n",
      " [ 2.39966779e-02]\n",
      " [ 2.82344930e-04]\n",
      " [-1.92763564e+00]\n",
      " [ 1.72054669e-01]]\n"
     ]
    },
    {
     "name": "stderr",
     "output_type": "stream",
     "text": [
      "C:\\Users\\Mahesh\\AppData\\Local\\Temp\\ipykernel_24652\\1564536882.py:35: RuntimeWarning: invalid value encountered in sqrt\n",
      "  se = np.sqrt(np.diag(np.dot(XTX_inv, mse)))\n"
     ]
    }
   ],
   "source": [
    "\n",
    "\n",
    "# Set the significance level for feature removal (e.g., p-value threshold)\n",
    "alpha = 0.05\n",
    "Y = ytrain\n",
    "# Initialize the list of selected features with all features\n",
    "selected_features = all_features.copy()\n",
    "\n",
    "# Perform backward stepwise regression\n",
    "while len(selected_features) > 0:\n",
    "    # Extract the corresponding columns from the dataset\n",
    "    X = Xtrain\n",
    "    \n",
    "    # Add a column of ones for the intercept term\n",
    "    X = np.column_stack([np.ones(X.shape[0]), X])\n",
    "    \n",
    "    # Fit a linear regression model using matrix operations\n",
    "    XTX_inv = np.linalg.inv(np.dot(X.T, X))\n",
    "    model_params = np.dot(np.dot(XTX_inv, X.T), Y)\n",
    "    \n",
    "    # Calculate the predicted values\n",
    "    Y_pred = np.dot(X, model_params)\n",
    "    \n",
    "    # Calculate the residuals\n",
    "    residuals = Y - Y_pred\n",
    "    \n",
    "    # Calculate the degrees of freedom\n",
    "    df = X.shape[0] - X.shape[1]\n",
    "    \n",
    "    # Calculate the residual sum of squares (RSS)\n",
    "    rss = np.sum(np.power(residuals,2))\n",
    "    \n",
    "    # Calculate the mean squared error (MSE)\n",
    "    mse = rss / df\n",
    "    \n",
    "    # Calculate the standard errors of coefficients\n",
    "    se = np.sqrt(np.diag(np.dot(XTX_inv, mse)))\n",
    "    \n",
    "    # Calculate the t-statistics for each coefficient\n",
    "    t_stats = model_params / se\n",
    "    \n",
    "    # Calculate the p-values for each coefficient\n",
    "    p_values = 2 * (1 - np.abs(np.array([t_stats])))\n",
    "    \n",
    "    # Find the feature with the highest p-value\n",
    "    max_p_value_feature = selected_features[np.argmax(p_values)]\n",
    "    \n",
    "    # Check if the highest p-value exceeds the significance level\n",
    "    if np.max(p_values) > alpha:\n",
    "        # Remove the feature with the highest p-value from selected features\n",
    "        selected_features.remove(max_p_value_feature)\n",
    "    else:\n",
    "        # If all remaining features have p-values below the significance level, stop\n",
    "        break\n",
    "\n",
    "# Print the selected features and the final model parameters\n",
    "print(\"Selected Features:\", selected_features)\n",
    "print(\"Final Model Parameters:\", model_params)\n"
   ]
  },
  {
   "cell_type": "code",
   "execution_count": 46,
   "id": "c098cca5",
   "metadata": {},
   "outputs": [],
   "source": [
    "# i was encountering error with back propogation i was not able to figure out "
   ]
  },
  {
   "cell_type": "markdown",
   "id": "c5f3d426",
   "metadata": {},
   "source": [
    "### Regularization"
   ]
  },
  {
   "cell_type": "code",
   "execution_count": 47,
   "id": "8bc3cf05",
   "metadata": {},
   "outputs": [
    {
     "name": "stdout",
     "output_type": "stream",
     "text": [
      "Coefficients: [ 0.27629377  1.41042655  0.87676209 -0.09873039]\n"
     ]
    }
   ],
   "source": [
    "alpha = 0.1\n",
    "X = train[['Mean Radius', 'Mean Smoothness', 'Mean Fractal Dimension', 'Worst Radius']].to_numpy()\n",
    "y = train['Tumor Size']\n",
    "def ridge_regression(X, y, alpha):\n",
    "    n_samples, n_features = X.shape\n",
    "    XTX = X.T.dot(X)\n",
    "    ridge_matrix = XTX + alpha * np.identity(n_features)\n",
    "    coefficients = np.linalg.inv(ridge_matrix).dot(X.T).dot(y)\n",
    "    \n",
    "    return coefficients\n",
    "\n",
    "coefficients = ridge_regression(X, y, alpha)\n",
    "print(\"Coefficients:\", coefficients)"
   ]
  },
  {
   "cell_type": "code",
   "execution_count": null,
   "id": "419180db",
   "metadata": {},
   "outputs": [],
   "source": []
  },
  {
   "cell_type": "markdown",
   "id": "ba2f19b8",
   "metadata": {},
   "source": [
    "### Scalilng"
   ]
  },
  {
   "cell_type": "code",
   "execution_count": 48,
   "id": "74c64fbb",
   "metadata": {},
   "outputs": [],
   "source": [
    "def min_max_scaling(data):\n",
    "    scaled_data = []\n",
    "    \n",
    "    # Find the minimum and maximum values for each column\n",
    "    min_values = [min(column) for column in zip(*data)]\n",
    "    max_values = [max(column) for column in zip(*data)]\n",
    "    \n",
    "    for row in data:\n",
    "        scaled_row = []\n",
    "        for i in range(len(row)):\n",
    "            # Scale each value to the range [0, 1]\n",
    "            scaled_value = (row[i] - min_values[i]) / (max_values[i] - min_values[i])\n",
    "            scaled_row.append(scaled_value)\n",
    "        scaled_data.append(scaled_row)\n",
    "    \n",
    "    return scaled_data"
   ]
  },
  {
   "cell_type": "code",
   "execution_count": null,
   "id": "a30d7cd0",
   "metadata": {},
   "outputs": [],
   "source": []
  },
  {
   "cell_type": "code",
   "execution_count": null,
   "id": "f1a6cd95",
   "metadata": {},
   "outputs": [],
   "source": []
  },
  {
   "cell_type": "code",
   "execution_count": null,
   "id": "8e56e2e0",
   "metadata": {},
   "outputs": [],
   "source": []
  }
 ],
 "metadata": {
  "kernelspec": {
   "display_name": "Python 3 (ipykernel)",
   "language": "python",
   "name": "python3"
  },
  "language_info": {
   "codemirror_mode": {
    "name": "ipython",
    "version": 3
   },
   "file_extension": ".py",
   "mimetype": "text/x-python",
   "name": "python",
   "nbconvert_exporter": "python",
   "pygments_lexer": "ipython3",
   "version": "3.8.10"
  }
 },
 "nbformat": 4,
 "nbformat_minor": 5
}
